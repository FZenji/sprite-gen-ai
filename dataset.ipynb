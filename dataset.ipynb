{
 "cells": [
  {
   "cell_type": "code",
   "execution_count": 2,
   "metadata": {},
   "outputs": [],
   "source": [
    "from PIL import Image\n",
    "import os\n",
    "import numpy as np"
   ]
  },
  {
   "cell_type": "code",
   "execution_count": 45,
   "metadata": {},
   "outputs": [
    {
     "name": "stdout",
     "output_type": "stream",
     "text": [
      "['armours', 'books', 'bronze-weapons', 'chests', 'gold-weapons', 'iron-weapons', 'potions', 'steel-weapons', 'weapons']\n"
     ]
    }
   ],
   "source": [
    "# Path to image directory\n",
    "path = \"./new_sprites\"\n",
    "dirs = os.listdir(path)\n",
    "dirs.sort()\n",
    "x_train = []\n",
    "y_train = []\n",
    "print(dirs)"
   ]
  },
  {
   "cell_type": "code",
   "execution_count": 30,
   "metadata": {},
   "outputs": [],
   "source": [
    "def alpha_to_color(image, color=(255, 255, 255)):\n",
    "    x = np.array(image)\n",
    "    r, g, b, a = np.rollaxis(x, axis=-1)\n",
    "    r[a == 0] = color[0]\n",
    "    g[a == 0] = color[1]\n",
    "    b[a == 0] = color[2] \n",
    "    x = np.dstack([r, g, b])\n",
    "    return x"
   ]
  },
  {
   "cell_type": "code",
   "execution_count": 46,
   "metadata": {},
   "outputs": [],
   "source": [
    "for subdir in dirs:\n",
    "    for item in os.listdir(path + '/' + subdir):\n",
    "        if os.path.isfile(path + '/' + subdir + '/' + item):\n",
    "            im = Image.open(path + '/' + subdir + '/' + item).convert(\"RGBA\")\n",
    "            im = alpha_to_color(im)\n",
    "            # im = np.array(im)\n",
    "            # print(im.shape)\n",
    "            x_train.append(im)\n",
    "            # armour, books, chests, potions, weapons\n",
    "            if subdir == 'armours':\n",
    "                y_train.append([1, 0, 0, 0, 0])\n",
    "            elif subdir == 'books':\n",
    "                y_train.append([0, 1, 0, 0, 0])\n",
    "            elif subdir == 'chests':\n",
    "                y_train.append([0, 0, 1, 0, 0])\n",
    "            elif subdir == 'potions':\n",
    "                y_train.append([0, 0, 0, 1, 0])\n",
    "            else:\n",
    "                y_train.append([0, 0, 0, 0, 1])"
   ]
  },
  {
   "cell_type": "code",
   "execution_count": 47,
   "metadata": {},
   "outputs": [
    {
     "name": "stdout",
     "output_type": "stream",
     "text": [
      "(134700, 16, 16, 3) (134700, 5)\n"
     ]
    }
   ],
   "source": [
    "imgset = np.array(x_train*50)\n",
    "labelset = np.array(y_train*50)\n",
    "print(imgset.shape, labelset.shape)\n",
    "np.save(\"new_sprites.npy\", imgset)\n",
    "np.save(\"new_sprites_labels.npy\", labelset)"
   ]
  },
  {
   "cell_type": "code",
   "execution_count": 48,
   "metadata": {},
   "outputs": [
    {
     "data": {
      "image/jpeg": "[encoded data removed]",
      "image/png": "[encoded data removed]",
      "text/plain": [
       "<PIL.Image.Image image mode=RGB size=16x16>"
      ]
     },
     "metadata": {},
     "output_type": "display_data"
    }
   ],
   "source": [
    "img_array = np.load('./sprites_1788_16x16.npy')\n",
    "img_array = np.load('./new_sprites.npy')\n",
    "\n",
    "im = Image.fromarray(img_array[3576])\n",
    "im.show()"
   ]
  }
 ],
 "metadata": {
  "kernelspec": {
   "display_name": "Python 3",
   "language": "python",
   "name": "python3"
  },
  "language_info": {
   "codemirror_mode": {
    "name": "ipython",
    "version": 3
   },
   "file_extension": ".py",
   "mimetype": "text/x-python",
   "name": "python",
   "nbconvert_exporter": "python",
   "pygments_lexer": "ipython3",
   "version": "3.11.7"
  }
 },
 "nbformat": 4,
 "nbformat_minor": 2
}
